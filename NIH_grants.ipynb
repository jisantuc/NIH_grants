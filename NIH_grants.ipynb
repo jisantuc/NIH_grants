{
 "metadata": {
  "name": "",
  "signature": "sha256:ae1b95f6b886990f6805bfcccac1360eb928109484855bd5b127f0127bfb61b7"
 },
 "nbformat": 3,
 "nbformat_minor": 0,
 "worksheets": [
  {
   "cells": [
    {
     "cell_type": "markdown",
     "metadata": {},
     "source": [
      "#Concentration of NIH R01 Grants\n",
      "##A Follow-Up to Bill Gardner's Post\n",
      "\n",
      "[Bill Gardner](http://theincidentaleconomist.com/wordpress/as-health-research-funding-declines-are-the-rich-growing-richer/)  worries about concentration of R01 grants and worries this may be bad for several reasons, political and scientific. The worry is timely because, in negative NIH funding growth environments, concentration might increase. We have the first part:\n",
      "\n",
      "![](http://theincidentaleconomist.com/wordpress/wp-content/uploads/2014/10/NIHBudget-MAW-edit-497x400.jpeg)\n",
      "\n",
      "...so the question is primarily about concentration.\n",
      "\n",
      "Trivially, there's some sort of visible correlation. Gardner included this graph:\n",
      "\n",
      "![](http://theincidentaleconomist.com/wordpress/wp-content/uploads/2014/10/RIchGetRicher-500x441.png)\n",
      "\n",
      "With the note that:\n",
      "\n",
      ">The vertical axis is the change from 2010 to 2013 in the proportion of graphs held by the institution. The folks at grantome.com interpret this as showing that the rich are getting richer.\n",
      "\n",
      ">You have probably noticed a problem with this graph. To show that the rich are growing richer, grantome.com ought to have looked at whether the proportion of grants held in 2010, not 2013, was associated with the change from 2010 to 2013.\n",
      "\n",
      "Let's check!\n",
      "\n",
      "Data come from the NIH's [ExPORTER tool](http://exporter.nih.gov/), with documentation [here](http://exporter.nih.gov/about.aspx).\n",
      "\n",
      "### 2010 and 2013 Concentration and Growth\n",
      "\n",
      "Per the documentation linked above, we want only R01 grants, which is a type indicated in the 'ACTIVITY' field of the data."
     ]
    },
    {
     "cell_type": "code",
     "collapsed": false,
     "input": [
      "import pandas as pd\n",
      "import numpy as np\n",
      "import matplotlib.pyplot as plt\n",
      "import matplotlib.image as mplimg\n",
      "%pylab inline\n",
      "\n",
      "def load_ExPORTER(year): #really don't want to type these things a thousand times\n",
      "    tp = pd.read_csv('RePORTER_PRJ_C_FY{0}.csv'.format(year),\n",
      "                     iterator = True,\n",
      "                     chunksize = 1000)\n",
      "    data = pd.concat(tp)\n",
      "    data = data[data['ACTIVITY'] == 'R01']\n",
      "    data['YEAR'] = year\n",
      "    return data\n",
      "\n",
      "df_2010 = load_ExPORTER(2010)\n",
      "df_2013 = load_ExPORTER(2013)"
     ],
     "language": "python",
     "metadata": {},
     "outputs": [
      {
       "output_type": "stream",
       "stream": "stdout",
       "text": [
        "Populating the interactive namespace from numpy and matplotlib\n"
       ]
      }
     ],
     "prompt_number": 1
    },
    {
     "cell_type": "markdown",
     "metadata": {},
     "source": [
      "Next, we want counts for each institution in 2010. We could restrict this to the top $x$, but won't bother to do so, because memory is cheap and these data are small."
     ]
    },
    {
     "cell_type": "code",
     "collapsed": false,
     "input": [
      "counts_2010 = df_2010['ACTIVITY'].groupby(df_2010['ORG_NAME']).count()\n",
      "props_2010 = counts_2010 / counts_2010.sum()\n",
      "props_2010.name = '2010 Grant Proportion'\n",
      "props_2010.head()"
     ],
     "language": "python",
     "metadata": {},
     "outputs": [
      {
       "metadata": {},
       "output_type": "pyout",
       "prompt_number": 2,
       "text": [
        "ORG_NAME\n",
        "AARHUS UNIVERSITY HOSPITAL             0.000031\n",
        "AARON DIAMOND AIDS RESEARCH CENTER     0.000252\n",
        "ACADEMY FOR EDUCATIONAL DEVELOPMENT    0.000031\n",
        "AERAS GLOBAL TB VACCINE FOUNDATION     0.000031\n",
        "AFASCI, INC.                           0.000063\n",
        "Name: 2010 Grant Proportion, dtype: float64"
       ]
      }
     ],
     "prompt_number": 2
    },
    {
     "cell_type": "markdown",
     "metadata": {},
     "source": [
      "Next, we want annual rates of growth from 2010 to 2013. This requires a little bit of work, but isn't messy. It won't necessarily be the case that every institution that received a grant in 2010 also received one in 2013, and annual rates of growth for organizations that had no grants in 2010 are obviously impossible to calculate. As a result, I'll restrict to organizations that received grants in both years. It's probably the case that those who didn't receive grants in 2013 didn't receive too many grants in 2010 anyway. This restriction leaves us with 834 organizations that received NIH grants in 2010 and 2013."
     ]
    },
    {
     "cell_type": "code",
     "collapsed": false,
     "input": [
      "counts_2013 = df_2013['ACTIVITY'].groupby(df_2013['ORG_NAME']).count()\n",
      "counts_2013 = counts_2013[counts_2010.index]\n",
      "counts_2013.dropna(inplace=True)\n",
      "counts_2010 = counts_2010[counts_2013.index]\n",
      "props_2010 = props_2010[counts_2013.index]\n",
      "\n",
      "len(counts_2013), len(counts_2010)"
     ],
     "language": "python",
     "metadata": {},
     "outputs": [
      {
       "metadata": {},
       "output_type": "pyout",
       "prompt_number": 3,
       "text": [
        "(602, 602)"
       ]
      }
     ],
     "prompt_number": 3
    },
    {
     "cell_type": "markdown",
     "metadata": {},
     "source": [
      "Next, calculate average annual growth."
     ]
    },
    {
     "cell_type": "code",
     "collapsed": false,
     "input": [
      "growth_rates = np.exp((np.log(counts_2013) - np.log(counts_2010))/3) - 1\n",
      "growth_rates.name = 'Annual Growth Rate'\n",
      "growth_rates.head()"
     ],
     "language": "python",
     "metadata": {},
     "outputs": [
      {
       "metadata": {},
       "output_type": "pyout",
       "prompt_number": 4,
       "text": [
        "ORG_NAME\n",
        "AARON DIAMOND AIDS RESEARCH CENTER     0.000000\n",
        "ALBANY COLLEGE OF PHARMACY             0.000000\n",
        "ALBANY MEDICAL COLLEGE                -0.176321\n",
        "ALBANY RESEARCH INSTITUTE, INC.        0.000000\n",
        "ALBERT EINSTEIN COLLEGE OF MEDICINE   -0.058433\n",
        "Name: Annual Growth Rate, dtype: float64"
       ]
      }
     ],
     "prompt_number": 4
    },
    {
     "cell_type": "markdown",
     "metadata": {},
     "source": [
      "Finally, we want to see a scatterplot with colors for proportions of the R01 pool greater than 1. To replicate the graph above, I'll restrict, as grantome.com did, to organizations with proportions at least 0.2%."
     ]
    },
    {
     "cell_type": "code",
     "collapsed": false,
     "input": [
      "plot_df = pd.DataFrame([props_2010, growth_rates]).T\n",
      "plot_df['big'] = pd.Series()\n",
      "plot_df['big'][plot_df['2010 Grant Proportion'] > 0.01] = 'Big'\n",
      "plot_df['big'] = plot_df['big'].fillna('Little')\n",
      "\n",
      "ax = plt.subplot(111)\n",
      "ax.scatter(x = plot_df['Annual Growth Rate'][plot_df['big'] == 'Big'],\n",
      "        y = plot_df['2010 Grant Proportion'][plot_df['big'] == 'Big'],\n",
      "        label = 'big',\n",
      "        color = 'r',\n",
      "        alpha = 0.5)\n",
      "ax.scatter(x = plot_df['Annual Growth Rate'][plot_df['big'] == 'Little'],\n",
      "        y = plot_df['2010 Grant Proportion'][plot_df['big'] == 'Little'],\n",
      "        label = 'little',\n",
      "        color = 'b',\n",
      "        alpha = 0.5)\n",
      "ax.set_title('2010 Grant Proportion\\n vs. \\n Annual Rate of Growth to 2013')\n",
      "ax.set_xlabel('Annual Growth Rate')\n",
      "ax.set_ylabel('2010 Grant Proportion')\n",
      "ax.legend(loc = 'upper right')\n",
      "plt.tight_layout()\n",
      "plt.savefig('plots/grantome_check2010.png')\n",
      "ax"
     ],
     "language": "python",
     "metadata": {},
     "outputs": [
      {
       "metadata": {},
       "output_type": "pyout",
       "prompt_number": 5,
       "text": [
        "<matplotlib.axes.AxesSubplot at 0xaa3be4ec>"
       ]
      },
      {
       "metadata": {},
       "output_type": "display_data",
       "png": "[encoded data removed]",
       "text": [
        "<matplotlib.figure.Figure at 0xb714072c>"
       ]
      }
     ],
     "prompt_number": 5
    },
    {
     "cell_type": "markdown",
     "metadata": {},
     "source": [
      "...and there goes the correlation. 10 house points from grantome for missing likely reverse causality. *Of course* organizations that had the largest annual rates of growth in grants from 2010 to 2013 would have higher proportions of grants in 2013."
     ]
    },
    {
     "cell_type": "markdown",
     "metadata": {},
     "source": [
      "###Checking in Each Year\n",
      "\n",
      "But Grantome might have gotten unlucky. We can turn the above into a method that will check, for any two years (we'll always pick years that were three years apart out of fidelity to Grantome's original claim), plot the proportion of grants in the base year against the 3 year rate of growth.\n",
      "\n",
      "For this, we need a method that takes two years as input, loads in the two relevant files, does the above formatting, and then plots the files."
     ]
    },
    {
     "cell_type": "code",
     "collapsed": false,
     "input": [
      "def check_size_v_growth(year1, year2):\n",
      "    df1 = load_ExPORTER(year1) #data reads\n",
      "    df2 = load_ExPORTER(year2)\n",
      "    \n",
      "    counts1 = df1['ACTIVITY'].groupby(df1['ORG_NAME']).count() #counts for year1 R01 grants\n",
      "    props1 = counts1 / counts1.sum()\n",
      "    props1.name = '{0} Grant Proportion'.format(year1)\n",
      "    \n",
      "    counts2 = df2['ACTIVITY'].groupby(df2['ORG_NAME']).count() #counts for year2 R01 grants\n",
      "    counts2 = counts2[counts1.index]\n",
      "    counts2.dropna(inplace=True)\n",
      "    counts1 = counts1[counts2.index] #ensures both have the same index\n",
      "    props1 = props1[counts2.index] #ensures props also has the same index\n",
      "    \n",
      "    growth_rates = np.exp((np.log(counts2) - np.log(counts1))/(year2 - year1)) - 1 #calculates annual growth rates\n",
      "    growth_rates.name = 'Annual Growth Rate'\n",
      "    \n",
      "    return pd.DataFrame([growth_rates, props1]).T\n",
      "\n",
      "def grantome_plot(data, ax = None): #assumes three years of growth, but could be modified not to make this assumption\n",
      "    \n",
      "    year_col = [c for c in data.columns if 'Proportion' in c][0] #extracts year information from data\n",
      "    year = int(data[year_col].name[:4])\n",
      "    data['big'] = (data['{0} Grant Proportion'.format(year)] > 0.01).map({True: 'Big', False: 'Little'}) #tags the big ones\n",
      "                                                                                                         #in the first year\n",
      "    if ax is None: #tries to set up different behavior depending on whether axis is present or not\n",
      "        ax = plt.subplot(111)\n",
      "        ax.set_title('{0} Grant Proportion\\n vs. \\n Annual Rate of Growth to {1}'.format(year, year + 3)) #cosmetics\n",
      "        flag = True\n",
      "    else:\n",
      "        ax.set_title('{0}'.format(year))\n",
      "        flag = False\n",
      "                    \n",
      "    ax.scatter(x = data['Annual Growth Rate'][data['big'] == 'Big'], #scatter for big ones in red\n",
      "            y = data['{0} Grant Proportion'.format(year)][data['big'] == 'Big'],\n",
      "            label = 'big',\n",
      "            color = 'r',\n",
      "            alpha = 0.5)\n",
      "    ax.scatter(x = data['Annual Growth Rate'][data['big'] == 'Little'], #scatter for little ones in blue\n",
      "            y = data['{0} Grant Proportion'.format(year)][data['big'] == 'Little'],\n",
      "            label = 'little',\n",
      "            color = 'b',\n",
      "            alpha = 0.5)\n",
      "    \n",
      "    ax.set_xlabel('Annual Growth Rate') #more cosmetics\n",
      "    ax.set_ylabel('Grant Proportion'.format(year))\n",
      "    ax.set_xlim((-1,5))\n",
      "    ax.set_ylim((0,0.030))\n",
      "    if flag is True:\n",
      "        ax.legend(loc = 'upper right')\n",
      "    plt.tight_layout()\n",
      "    if flag:\n",
      "        plt.savefig('plots/grantome_check{0}.png'.format(year),\n",
      "                    bbox_inches = 'tight',\n",
      "                    pad_inches = 0.1)\n",
      "    plt.clf()"
     ],
     "language": "python",
     "metadata": {},
     "outputs": [],
     "prompt_number": 10
    },
    {
     "cell_type": "markdown",
     "metadata": {},
     "source": [
      "With the above set up, we can run through many years quickly and see whether there's ever been any relationship between size and growth since ExPORTER has tracked data (1985 - 2013). For simplicity's sake (really because I like grids), I'll just look at each year since 1986 so we'll have 25."
     ]
    },
    {
     "cell_type": "code",
     "collapsed": false,
     "input": [
      "axes = [plt.subplot(3,3,i + 1) for i in range(9)]\n",
      "\n",
      "for year in range(1986,2011):\n",
      "    print 'plotting ' + str(year)\n",
      "    data = check_size_v_growth(year, year + 3)\n",
      "    grantome_plot(data)"
     ],
     "language": "python",
     "metadata": {},
     "outputs": [
      {
       "metadata": {},
       "output_type": "display_data",
       "text": [
        "<matplotlib.figure.Figure at 0xa9140e0c>"
       ]
      }
     ],
     "prompt_number": 11
    }
   ],
   "metadata": {}
  }
 ]
}